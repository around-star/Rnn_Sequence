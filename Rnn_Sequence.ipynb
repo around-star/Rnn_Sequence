{
  "nbformat": 4,
  "nbformat_minor": 0,
  "metadata": {
    "colab": {
      "name": "Rnn_Sequence",
      "provenance": [],
      "authorship_tag": "ABX9TyOtAHp0qEFr9Fhs/IwzdCoy",
      "include_colab_link": true
    },
    "kernelspec": {
      "name": "python3",
      "display_name": "Python 3"
    },
    "accelerator": "GPU"
  },
  "cells": [
    {
      "cell_type": "markdown",
      "metadata": {
        "id": "view-in-github",
        "colab_type": "text"
      },
      "source": [
        "<a href=\"https://colab.research.google.com/github/around-star/Rnn_Sequence/blob/master/Rnn_Sequence.ipynb\" target=\"_parent\"><img src=\"https://colab.research.google.com/assets/colab-badge.svg\" alt=\"Open In Colab\"/></a>"
      ]
    },
    {
      "cell_type": "markdown",
      "metadata": {
        "id": "fCfCEqKdp5Jw",
        "colab_type": "text"
      },
      "source": [
        "**SEQUENCE PREDICTION OF SIN CURVE USING RNN**"
      ]
    },
    {
      "cell_type": "code",
      "metadata": {
        "id": "lpZxa05ImJcx",
        "colab_type": "code",
        "colab": {}
      },
      "source": [
        "import tensorflow as tf\n",
        "import numpy as np\n",
        "import matplotlib.pyplot as plt"
      ],
      "execution_count": 0,
      "outputs": []
    },
    {
      "cell_type": "code",
      "metadata": {
        "id": "IBIkttwf6vpB",
        "colab_type": "code",
        "colab": {}
      },
      "source": [
        "class set_up_batches():\n",
        "  def __init__(self,x_min,x_max,num_of_points):\n",
        "    self.x_min=x_min\n",
        "    self.num_of_points=num_of_points\n",
        "    self.resolution=(x_max - x_min)/num_of_points\n",
        "    self.x_data=np.linspace(x_min,x_max,num_of_points)\n",
        "    self.y_true=np.sin(self.x_data)\n",
        "\n",
        "  def next_batch(self,time_steps):\n",
        "    rand_start_point=np.random.randint(0,self.num_of_points-time_steps,1)\n",
        "    time_stamp_data=np.linspace(rand_start_point,rand_start_point+time_steps,time_steps+1)*self.resolution\n",
        "    batch=[self.x_min+i for i in time_stamp_data]\n",
        "    y_true=np.sin(batch)\n",
        "    return y_true[:-1],y_true[1:],batch"
      ],
      "execution_count": 0,
      "outputs": []
    },
    {
      "cell_type": "code",
      "metadata": {
        "id": "twV-ibwJxVyt",
        "colab_type": "code",
        "colab": {}
      },
      "source": [
        "time_steps=30"
      ],
      "execution_count": 0,
      "outputs": []
    },
    {
      "cell_type": "code",
      "metadata": {
        "id": "0WGdW9bsb5o5",
        "colab_type": "code",
        "colab": {}
      },
      "source": [
        "data=set_up_batches(90,100,200)\n",
        "train_batch,y_true,x_batch=data.next_batch(time_steps)"
      ],
      "execution_count": 0,
      "outputs": []
    },
    {
      "cell_type": "code",
      "metadata": {
        "id": "qI1HB2RQc_2p",
        "colab_type": "code",
        "outputId": "8ec821f5-ea8f-4708-b354-9e4d5a5a6653",
        "colab": {
          "base_uri": "https://localhost:8080/",
          "height": 265
        }
      },
      "source": [
        "plt.plot(data.x_data,data.y_true,'b-')\n",
        "plt.plot(x_batch[:-1],train_batch,'r*')\n",
        "plt.show()"
      ],
      "execution_count": 0,
      "outputs": [
        {
          "output_type": "display_data",
          "data": {
            "image/png": "[encoded data removed]",
            "text/plain": [
              "<Figure size 432x288 with 1 Axes>"
            ]
          },
          "metadata": {
            "tags": [],
            "needs_background": "light"
          }
        }
      ]
    },
    {
      "cell_type": "code",
      "metadata": {
        "id": "fyNoo3x2dUvE",
        "colab_type": "code",
        "colab": {}
      },
      "source": [
        "def Rnn(rnn_units):\n",
        "  return tf.keras.layers.SimpleRNN(rnn_units,activation='sigmoid',recurrent_initializer='glorot_uniform',return_sequences=True)\n"
      ],
      "execution_count": 0,
      "outputs": []
    },
    {
      "cell_type": "code",
      "metadata": {
        "id": "O268xpqF65oH",
        "colab_type": "code",
        "colab": {}
      },
      "source": [
        "def build_model(rnn_units):\n",
        "  model=tf.keras.Sequential([\n",
        "  Rnn(rnn_units)\n",
        "  ])\n",
        "  return model"
      ],
      "execution_count": 0,
      "outputs": []
    },
    {
      "cell_type": "markdown",
      "metadata": {
        "id": "CKVwL_bXhWqY",
        "colab_type": "text"
      },
      "source": [
        "**UNTRAINED MODEL**"
      ]
    },
    {
      "cell_type": "code",
      "metadata": {
        "id": "2prEt3hZc8yQ",
        "colab_type": "code",
        "colab": {}
      },
      "source": [
        "#Untrained Model\n",
        "untrained_model=build_model(1)"
      ],
      "execution_count": 0,
      "outputs": []
    },
    {
      "cell_type": "code",
      "metadata": {
        "id": "W6ASDVwGRidu",
        "colab_type": "code",
        "colab": {}
      },
      "source": [
        "x=np.array(train_batch).reshape(-1,time_steps,1)"
      ],
      "execution_count": 0,
      "outputs": []
    },
    {
      "cell_type": "code",
      "metadata": {
        "id": "HLQEkdW-aWdW",
        "colab_type": "code",
        "colab": {}
      },
      "source": [
        "x=tf.convert_to_tensor(x,tf.float64)"
      ],
      "execution_count": 0,
      "outputs": []
    },
    {
      "cell_type": "code",
      "metadata": {
        "id": "RPnxu5Pqq0r6",
        "colab_type": "code",
        "outputId": "4b2802b7-ccd4-4278-9a37-ee338c890d61",
        "colab": {
          "base_uri": "https://localhost:8080/",
          "height": 139
        }
      },
      "source": [
        "#Prediction from the Untrained Model\n",
        "untrained_predict=untrained_model(x)"
      ],
      "execution_count": 0,
      "outputs": [
        {
          "output_type": "stream",
          "text": [
            "WARNING:tensorflow:Layer simple_rnn is casting an input tensor from dtype float64 to the layer's dtype of float32, which is new behavior in TensorFlow 2.  The layer has dtype float32 because it's dtype defaults to floatx.\n",
            "\n",
            "If you intended to run this layer in float32, you can safely ignore this warning. If in doubt, this warning is likely only an issue if you are porting a TensorFlow 1.X model to TensorFlow 2.\n",
            "\n",
            "To change all layers to have dtype float64 by default, call `tf.keras.backend.set_floatx('float64')`. To change just this layer, pass dtype='float64' to the layer constructor. If you are the author of this layer, you can disable autocasting by passing autocast=False to the base Layer constructor.\n",
            "\n"
          ],
          "name": "stdout"
        }
      ]
    },
    {
      "cell_type": "code",
      "metadata": {
        "id": "J7cBV7UesYQL",
        "colab_type": "code",
        "outputId": "4545b630-79f6-465e-d5e9-afad035585eb",
        "colab": {
          "base_uri": "https://localhost:8080/",
          "height": 34
        }
      },
      "source": [
        "untrained_predict.get_shape()"
      ],
      "execution_count": 0,
      "outputs": [
        {
          "output_type": "execute_result",
          "data": {
            "text/plain": [
              "TensorShape([1, 30, 1])"
            ]
          },
          "metadata": {
            "tags": []
          },
          "execution_count": 13
        }
      ]
    },
    {
      "cell_type": "code",
      "metadata": {
        "id": "PlsqTVCwag8R",
        "colab_type": "code",
        "outputId": "15758e3b-68ac-4c2e-a3ab-d0ac3b87c0ec",
        "colab": {
          "base_uri": "https://localhost:8080/",
          "height": 265
        }
      },
      "source": [
        "#results of the Untrained Model\n",
        "plt.plot(x_batch[1:],np.array(untrained_predict).reshape(time_steps),'k*',label='Predicted Sequence')\n",
        "plt.plot(x_batch[1:],y_true,'r*',label='True Sequence')\n",
        "plt.legend()\n",
        "plt.show()"
      ],
      "execution_count": 0,
      "outputs": [
        {
          "output_type": "display_data",
          "data": {
            "image/png": "[encoded data removed]",
            "text/plain": [
              "<Figure size 432x288 with 1 Axes>"
            ]
          },
          "metadata": {
            "tags": [],
            "needs_background": "light"
          }
        }
      ]
    },
    {
      "cell_type": "markdown",
      "metadata": {
        "id": "a6RKwfNBhuiW",
        "colab_type": "text"
      },
      "source": [
        "**LOSS FUNCTION AND GRADIENT** "
      ]
    },
    {
      "cell_type": "code",
      "metadata": {
        "id": "4ZrZB9PZgBcP",
        "colab_type": "code",
        "colab": {}
      },
      "source": [
        "def compute_loss(y_true,y_pred):\n",
        "  loss=tf.reduce_mean(tf.square(y_pred-y_true))\n",
        "  return loss\n",
        "\n",
        "untrained_loss=compute_loss(y_true,untrained_predict)"
      ],
      "execution_count": 0,
      "outputs": []
    },
    {
      "cell_type": "code",
      "metadata": {
        "id": "9qXFlmaU1GXM",
        "colab_type": "code",
        "outputId": "4264d1a5-eb72-469b-f8f7-fb673cf5462e",
        "colab": {
          "base_uri": "https://localhost:8080/",
          "height": 34
        }
      },
      "source": [
        "#Loss of the Untrained Model\n",
        "print(untrained_loss)"
      ],
      "execution_count": 0,
      "outputs": [
        {
          "output_type": "stream",
          "text": [
            "tf.Tensor(0.10924307, shape=(), dtype=float32)\n"
          ],
          "name": "stdout"
        }
      ]
    },
    {
      "cell_type": "markdown",
      "metadata": {
        "id": "2L1-GL-uqYA9",
        "colab_type": "text"
      },
      "source": [
        "**TRAINING**"
      ]
    },
    {
      "cell_type": "code",
      "metadata": {
        "id": "DXupMjUmR5yd",
        "colab_type": "code",
        "colab": {}
      },
      "source": [
        "learning_rate=0.001\n",
        "#Training Model\n",
        "model=build_model(1)"
      ],
      "execution_count": 0,
      "outputs": []
    },
    {
      "cell_type": "code",
      "metadata": {
        "id": "_lgHnjGo1wOA",
        "colab_type": "code",
        "colab": {}
      },
      "source": [
        "optimizer=tf.keras.optimizers.Adam(learning_rate)\n",
        "def train_step():\n",
        "  with tf.GradientTape() as tape:\n",
        "    y_pred=model(x)\n",
        "    #compute loss\n",
        "    loss=compute_loss(y_true,y_pred)\n",
        "  #compute gradients\n",
        "  grads=tape.gradient(loss,model.variables)\n",
        "\n",
        "  #apply gradients to the optimizer\n",
        "  optimizer.apply_gradients(zip(grads,model.variables))"
      ],
      "execution_count": 0,
      "outputs": []
    },
    {
      "cell_type": "code",
      "metadata": {
        "id": "vr8kmmqAVGq7",
        "colab_type": "code",
        "outputId": "2da5928e-c0f5-4409-c745-977dabb70e32",
        "colab": {
          "base_uri": "https://localhost:8080/",
          "height": 139
        }
      },
      "source": [
        "iteration=10000\n",
        "for iterate in range(iteration):\n",
        "  train_step()"
      ],
      "execution_count": 0,
      "outputs": [
        {
          "output_type": "stream",
          "text": [
            "WARNING:tensorflow:Layer simple_rnn_1 is casting an input tensor from dtype float64 to the layer's dtype of float32, which is new behavior in TensorFlow 2.  The layer has dtype float32 because it's dtype defaults to floatx.\n",
            "\n",
            "If you intended to run this layer in float32, you can safely ignore this warning. If in doubt, this warning is likely only an issue if you are porting a TensorFlow 1.X model to TensorFlow 2.\n",
            "\n",
            "To change all layers to have dtype float64 by default, call `tf.keras.backend.set_floatx('float64')`. To change just this layer, pass dtype='float64' to the layer constructor. If you are the author of this layer, you can disable autocasting by passing autocast=False to the base Layer constructor.\n",
            "\n"
          ],
          "name": "stdout"
        }
      ]
    },
    {
      "cell_type": "code",
      "metadata": {
        "id": "lmurzf_Sjt02",
        "colab_type": "code",
        "colab": {}
      },
      "source": [
        "y_pred=model(x)"
      ],
      "execution_count": 0,
      "outputs": []
    },
    {
      "cell_type": "code",
      "metadata": {
        "id": "RtKx68dzjXm9",
        "colab_type": "code",
        "outputId": "4023aadd-4045-4458-eefd-c373cb23cd10",
        "colab": {
          "base_uri": "https://localhost:8080/",
          "height": 265
        }
      },
      "source": [
        "#results of the trained model\n",
        "plt.plot(x_batch[1:],np.array(y_pred).reshape(time_steps),'k*',label='Predicted Sequence')\n",
        "plt.plot(x_batch[1:],y_true,'r*',label='True Sequence')\n",
        "plt.plot(x_batch[:-1],train_batch,'b-',label='Train Sequence')\n",
        "plt.legend()\n",
        "plt.show()"
      ],
      "execution_count": 0,
      "outputs": [
        {
          "output_type": "display_data",
          "data": {
            "image/png": "[encoded data removed]",
            "text/plain": [
              "<Figure size 432x288 with 1 Axes>"
            ]
          },
          "metadata": {
            "tags": [],
            "needs_background": "light"
          }
        }
      ]
    },
    {
      "cell_type": "code",
      "metadata": {
        "id": "8W5wXJJ8j1or",
        "colab_type": "code",
        "colab": {}
      },
      "source": [
        ""
      ],
      "execution_count": 0,
      "outputs": []
    }
  ]
}